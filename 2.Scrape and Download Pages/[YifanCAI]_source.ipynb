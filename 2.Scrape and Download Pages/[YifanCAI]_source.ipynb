{
 "cells": [
  {
   "cell_type": "markdown",
   "id": "ed21ae5c",
   "metadata": {},
   "source": [
    "### Homework 02 "
   ]
  },
  {
   "cell_type": "code",
   "execution_count": 1,
   "id": "6a1e34f9",
   "metadata": {},
   "outputs": [],
   "source": [
    "from bs4 import BeautifulSoup\n",
    "import requests\n",
    "import re\n",
    "from IPython.core.interactiveshell import InteractiveShell\n",
    "InteractiveShell.ast_node_interactivity = 'all'\n",
    "from urllib.request import urlopen\n",
    "from urllib.request import urlretrieve"
   ]
  },
  {
   "cell_type": "markdown",
   "id": "e8fe7574",
   "metadata": {},
   "source": [
    "#### a). Use the URL identified above and write code that loads the first page with 40 items per page of “B&N Top 100”."
   ]
  },
  {
   "cell_type": "code",
   "execution_count": 2,
   "id": "8b97d591",
   "metadata": {},
   "outputs": [],
   "source": [
    "headers = {\"User-Agent\": \"Mozilla/5.0\"}\n",
    "url= \"https://www.barnesandnoble.com/b/books/_/N-1fZ29Z8q8?Nrpp=40&page=1\"\n",
    "page = requests.get(url, headers = headers)\n",
    "# Create a beautifulsoup object \n",
    "soup = BeautifulSoup(page.text, 'lxml')"
   ]
  },
  {
   "cell_type": "markdown",
   "id": "9914ccb2",
   "metadata": {},
   "source": [
    "#### b). Take your code in (a) and create a list of each book’s product page URL. This list should be of length 40."
   ]
  },
  {
   "cell_type": "code",
   "execution_count": 3,
   "id": "1edfbf5a",
   "metadata": {},
   "outputs": [
    {
     "name": "stdout",
     "output_type": "stream",
     "text": [
      "['https://www.barnesandnoble.com/w/a-curse-for-true-love-stephanie-garber/1142831119;jsessionid=C9F056FE88ED26FCBD7111C0CCA90BFD.prodny_store01-va05?ean=9781250908452', 'https://www.barnesandnoble.com/w/the-brothers-hawthorne-jennifer-lynn-barnes/1142336901;jsessionid=C9F056FE88ED26FCBD7111C0CCA90BFD.prodny_store01-va05?ean=9780316565233', 'https://www.barnesandnoble.com/w/throne-of-the-fallen-kerri-maniscalco/1142915833;jsessionid=C9F056FE88ED26FCBD7111C0CCA90BFD.prodny_store01-va05?ean=9780316568920', 'https://www.barnesandnoble.com/w/happy-place-emily-henry/1141876774;jsessionid=C9F056FE88ED26FCBD7111C0CCA90BFD.prodny_store01-va05?ean=9780593639689', 'https://www.barnesandnoble.com/w/love-theoretically-ali-hazelwood/1142531371;jsessionid=C9F056FE88ED26FCBD7111C0CCA90BFD.prodny_store01-va05?ean=9780593641064', 'https://www.barnesandnoble.com/w/foxglove-adalyn-grace/1142480492;jsessionid=C9F056FE88ED26FCBD7111C0CCA90BFD.prodny_store01-va05?ean=9780316565257', 'https://www.barnesandnoble.com/w/heavenly-tyrant-xiran-jay-zhao/1142553219;jsessionid=C9F056FE88ED26FCBD7111C0CCA90BFD.prodny_store01-va05?ean=9780735269989', 'https://www.barnesandnoble.com/w/king-of-wrath-ana-huang/1142543715;jsessionid=C9F056FE88ED26FCBD7111C0CCA90BFD.prodny_store01-va05?ean=9781728290898', 'https://www.barnesandnoble.com/w/final-offer-lauren-asher/1141860855;jsessionid=C9F056FE88ED26FCBD7111C0CCA90BFD.prodny_store01-va05?ean=9781728272221', 'https://www.barnesandnoble.com/w/things-we-hide-from-the-light-lucy-score/1142031614;jsessionid=C9F056FE88ED26FCBD7111C0CCA90BFD.prodny_store01-va05?ean=9781728276113', 'https://www.barnesandnoble.com/w/the-prisoners-throne-holly-black/1142950065;jsessionid=C9F056FE88ED26FCBD7111C0CCA90BFD.prodny_store01-va05?ean=9780316569309', 'https://www.barnesandnoble.com/w/meet-me-at-the-lake-carley-fortune/1141910794;jsessionid=C9F056FE88ED26FCBD7111C0CCA90BFD.prodny_store01-va05?ean=9780593438558', 'https://www.barnesandnoble.com/w/chain-of-thorns-cassandra-clare/1141411300;jsessionid=C9F056FE88ED26FCBD7111C0CCA90BFD.prodny_store01-va05?ean=9781481431934', 'https://www.barnesandnoble.com/w/a-day-of-fallen-night-samantha-shannon/1141374754;jsessionid=C9F056FE88ED26FCBD7111C0CCA90BFD.prodny_store01-va05?ean=9781639731671', 'https://www.barnesandnoble.com/w/secretly-yours-tessa-bailey/1141447503;jsessionid=C9F056FE88ED26FCBD7111C0CCA90BFD.prodny_store01-va05?ean=9780063238985', 'https://www.barnesandnoble.com/w/awaken-your-genius-ozan-varol/1141764343;jsessionid=C9F056FE88ED26FCBD7111C0CCA90BFD.prodny_store01-va05?ean=9781541700369', 'https://www.barnesandnoble.com/w/lore-olympus-rachel-smythe/1141982359;jsessionid=C9F056FE88ED26FCBD7111C0CCA90BFD.prodny_store01-va05?ean=9780593600078', 'https://www.barnesandnoble.com/w/house-of-roots-and-ruin-erin-a-craig/1142680400;jsessionid=C9F056FE88ED26FCBD7111C0CCA90BFD.prodny_store01-va05?ean=9780593708347', 'https://www.barnesandnoble.com/w/the-christmas-orphans-club-becca-freeman/1142888489;jsessionid=C9F056FE88ED26FCBD7111C0CCA90BFD.prodny_store01-va05?ean=9780143138037', 'https://www.barnesandnoble.com/w/summer-on-sag-harbor-sunny-hostin/1139819432;jsessionid=C9F056FE88ED26FCBD7111C0CCA90BFD.prodny_store01-va05?ean=9780062994219', 'https://www.barnesandnoble.com/w/sex-talks-vanessa-marin/1142630612;jsessionid=C9F056FE88ED26FCBD7111C0CCA90BFD.prodny_store01-va05?ean=9781668000014', 'https://www.barnesandnoble.com/w/yours-truly-abby-jimenez/1141978637;jsessionid=C9F056FE88ED26FCBD7111C0CCA90BFD.prodny_store01-va05?ean=9781538704394', 'https://www.barnesandnoble.com/w/spy-x-family-vol-9-tatsuya-endo/1141652264;jsessionid=C9F056FE88ED26FCBD7111C0CCA90BFD.prodny_store01-va05?ean=9781974736287', 'https://www.barnesandnoble.com/w/the-wall-of-winnipeg-and-me-mariana-zapata/1123494064;jsessionid=C9F056FE88ED26FCBD7111C0CCA90BFD.prodny_store01-va05?ean=9780063325852', 'https://www.barnesandnoble.com/w/beeple-mike-winkelmann/1142232924;jsessionid=C9F056FE88ED26FCBD7111C0CCA90BFD.prodny_store01-va05?ean=9781419756917', 'https://www.barnesandnoble.com/w/the-sun-and-the-star-rick-riordan/1142365456;jsessionid=C9F056FE88ED26FCBD7111C0CCA90BFD.prodny_store01-va05?ean=9781368098878', 'https://www.barnesandnoble.com/w/icebreaker-hannah-grace/1142730300;jsessionid=C9F056FE88ED26FCBD7111C0CCA90BFD.prodny_store01-va05?ean=9781668026038', 'https://www.barnesandnoble.com/w/wealth-without-cash-pace-morby/1142015980;jsessionid=C9F056FE88ED26FCBD7111C0CCA90BFD.prodny_store01-va05?ean=9781947200883', 'https://www.barnesandnoble.com/w/yellowface-r-f-kuang/1142006137;jsessionid=C9F056FE88ED26FCBD7111C0CCA90BFD.prodny_store01-va05?ean=9780063250833', 'https://www.barnesandnoble.com/w/the-true-love-experiment-christina-lauren/1142221300;jsessionid=C9F056FE88ED26FCBD7111C0CCA90BFD.prodny_store01-va05?ean=9781668031759', 'https://www.barnesandnoble.com/w/twistwood-tales-ac-macdonald/1141651740;jsessionid=C9F056FE88ED26FCBD7111C0CCA90BFD.prodny_store01-va05?ean=9781524877415', 'https://www.barnesandnoble.com/w/throne-of-glass-maas-sarah-j/1141902141;jsessionid=C9F056FE88ED26FCBD7111C0CCA90BFD.prodny_store01-va05?ean=9781639730957', 'https://www.barnesandnoble.com/w/in-the-lives-of-puppets-tj-klune/1141344200;jsessionid=C9F056FE88ED26FCBD7111C0CCA90BFD.prodny_store01-va05?ean=9781250889539', 'https://www.barnesandnoble.com/w/the-foxglove-king-hannah-whitten/1141622537;jsessionid=C9F056FE88ED26FCBD7111C0CCA90BFD.prodny_store01-va05?ean=9780316566537', 'https://www.barnesandnoble.com/w/last-violent-call-chloe-gong/1141875756;jsessionid=C9F056FE88ED26FCBD7111C0CCA90BFD.prodny_store01-va05?ean=9781665934510', 'https://www.barnesandnoble.com/w/twenty-thousand-fleas-under-the-sea-dav-pilkey/1141938121;jsessionid=C9F056FE88ED26FCBD7111C0CCA90BFD.prodny_store01-va05?ean=9781338895957', 'https://www.barnesandnoble.com/w/1964-paul-mccartney/1142974485;jsessionid=C9F056FE88ED26FCBD7111C0CCA90BFD.prodny_store01-va05?ean=9781324093060', 'https://www.barnesandnoble.com/w/unfortunately-yours-tessa-bailey/1142168957;jsessionid=C9F056FE88ED26FCBD7111C0CCA90BFD.prodny_store01-va05?ean=9780063239036', 'https://www.barnesandnoble.com/w/radiant-sin-katee-robert/1141398296;jsessionid=C9F056FE88ED26FCBD7111C0CCA90BFD.prodny_store01-va05?ean=9781728257006', 'https://www.barnesandnoble.com/w/a-soul-of-ash-and-blood-jennifer-l-armentrout/1142749250;jsessionid=C9F056FE88ED26FCBD7111C0CCA90BFD.prodny_store01-va05?ean=9781957568423']\n"
     ]
    },
    {
     "data": {
      "text/plain": [
       "40"
      ]
     },
     "execution_count": 3,
     "metadata": {},
     "output_type": "execute_result"
    }
   ],
   "source": [
    "base_url = \"https://www.barnesandnoble.com\"\n",
    "items = soup.find_all('h3',class_ = 'product-info-title')\n",
    "links = []\n",
    "for i in items:\n",
    "    links.append(base_url + i.a.get('href'))\n",
    "print(links)\n",
    "#Check the length of the list of links\n",
    "len(links) "
   ]
  },
  {
   "cell_type": "markdown",
   "id": "e66ae74f",
   "metadata": {},
   "source": [
    "#### c). Write a loop that downloads each product page of the top 40 books in “B&N Top 100”. e., save each of these pages to your computer using a meaningful filename (e.g., \"bn_top100_01.htm\"). IMPORTANT: Each page request needs to be followed by at least a 5 second pause!  Remember, you want your program to mimic your behavior as a human and help you make good purchasing decisions."
   ]
  },
  {
   "cell_type": "code",
   "execution_count": 7,
   "id": "24e68860",
   "metadata": {},
   "outputs": [
    {
     "data": {
      "text/plain": [
       "78083"
      ]
     },
     "execution_count": 7,
     "metadata": {},
     "output_type": "execute_result"
    },
    {
     "name": "stdout",
     "output_type": "stream",
     "text": [
      "Top01.htm has been downloaded\n"
     ]
    },
    {
     "data": {
      "text/plain": [
       "81729"
      ]
     },
     "execution_count": 7,
     "metadata": {},
     "output_type": "execute_result"
    },
    {
     "name": "stdout",
     "output_type": "stream",
     "text": [
      "Top02.htm has been downloaded\n"
     ]
    },
    {
     "data": {
      "text/plain": [
       "77161"
      ]
     },
     "execution_count": 7,
     "metadata": {},
     "output_type": "execute_result"
    },
    {
     "name": "stdout",
     "output_type": "stream",
     "text": [
      "Top03.htm has been downloaded\n"
     ]
    },
    {
     "data": {
      "text/plain": [
       "79722"
      ]
     },
     "execution_count": 7,
     "metadata": {},
     "output_type": "execute_result"
    },
    {
     "name": "stdout",
     "output_type": "stream",
     "text": [
      "Top04.htm has been downloaded\n"
     ]
    },
    {
     "data": {
      "text/plain": [
       "77530"
      ]
     },
     "execution_count": 7,
     "metadata": {},
     "output_type": "execute_result"
    },
    {
     "name": "stdout",
     "output_type": "stream",
     "text": [
      "Top05.htm has been downloaded\n"
     ]
    },
    {
     "data": {
      "text/plain": [
       "80597"
      ]
     },
     "execution_count": 7,
     "metadata": {},
     "output_type": "execute_result"
    },
    {
     "name": "stdout",
     "output_type": "stream",
     "text": [
      "Top06.htm has been downloaded\n"
     ]
    },
    {
     "data": {
      "text/plain": [
       "75660"
      ]
     },
     "execution_count": 7,
     "metadata": {},
     "output_type": "execute_result"
    },
    {
     "name": "stdout",
     "output_type": "stream",
     "text": [
      "Top07.htm has been downloaded\n"
     ]
    },
    {
     "data": {
      "text/plain": [
       "77267"
      ]
     },
     "execution_count": 7,
     "metadata": {},
     "output_type": "execute_result"
    },
    {
     "name": "stdout",
     "output_type": "stream",
     "text": [
      "Top08.htm has been downloaded\n"
     ]
    },
    {
     "data": {
      "text/plain": [
       "104762"
      ]
     },
     "execution_count": 7,
     "metadata": {},
     "output_type": "execute_result"
    },
    {
     "name": "stdout",
     "output_type": "stream",
     "text": [
      "Top09.htm has been downloaded\n"
     ]
    },
    {
     "data": {
      "text/plain": [
       "112138"
      ]
     },
     "execution_count": 7,
     "metadata": {},
     "output_type": "execute_result"
    },
    {
     "name": "stdout",
     "output_type": "stream",
     "text": [
      "Top10.htm has been downloaded\n"
     ]
    },
    {
     "data": {
      "text/plain": [
       "76397"
      ]
     },
     "execution_count": 7,
     "metadata": {},
     "output_type": "execute_result"
    },
    {
     "name": "stdout",
     "output_type": "stream",
     "text": [
      "Top11.htm has been downloaded\n"
     ]
    },
    {
     "data": {
      "text/plain": [
       "111953"
      ]
     },
     "execution_count": 7,
     "metadata": {},
     "output_type": "execute_result"
    },
    {
     "name": "stdout",
     "output_type": "stream",
     "text": [
      "Top12.htm has been downloaded\n"
     ]
    },
    {
     "data": {
      "text/plain": [
       "124721"
      ]
     },
     "execution_count": 7,
     "metadata": {},
     "output_type": "execute_result"
    },
    {
     "name": "stdout",
     "output_type": "stream",
     "text": [
      "Top13.htm has been downloaded\n"
     ]
    },
    {
     "data": {
      "text/plain": [
       "121156"
      ]
     },
     "execution_count": 7,
     "metadata": {},
     "output_type": "execute_result"
    },
    {
     "name": "stdout",
     "output_type": "stream",
     "text": [
      "Top14.htm has been downloaded\n"
     ]
    },
    {
     "data": {
      "text/plain": [
       "130851"
      ]
     },
     "execution_count": 7,
     "metadata": {},
     "output_type": "execute_result"
    },
    {
     "name": "stdout",
     "output_type": "stream",
     "text": [
      "Top15.htm has been downloaded\n"
     ]
    },
    {
     "data": {
      "text/plain": [
       "76830"
      ]
     },
     "execution_count": 7,
     "metadata": {},
     "output_type": "execute_result"
    },
    {
     "name": "stdout",
     "output_type": "stream",
     "text": [
      "Top16.htm has been downloaded\n"
     ]
    },
    {
     "data": {
      "text/plain": [
       "98733"
      ]
     },
     "execution_count": 7,
     "metadata": {},
     "output_type": "execute_result"
    },
    {
     "name": "stdout",
     "output_type": "stream",
     "text": [
      "Top17.htm has been downloaded\n"
     ]
    },
    {
     "data": {
      "text/plain": [
       "80321"
      ]
     },
     "execution_count": 7,
     "metadata": {},
     "output_type": "execute_result"
    },
    {
     "name": "stdout",
     "output_type": "stream",
     "text": [
      "Top18.htm has been downloaded\n"
     ]
    },
    {
     "data": {
      "text/plain": [
       "74274"
      ]
     },
     "execution_count": 7,
     "metadata": {},
     "output_type": "execute_result"
    },
    {
     "name": "stdout",
     "output_type": "stream",
     "text": [
      "Top19.htm has been downloaded\n"
     ]
    },
    {
     "data": {
      "text/plain": [
       "81873"
      ]
     },
     "execution_count": 7,
     "metadata": {},
     "output_type": "execute_result"
    },
    {
     "name": "stdout",
     "output_type": "stream",
     "text": [
      "Top20.htm has been downloaded\n"
     ]
    },
    {
     "data": {
      "text/plain": [
       "117847"
      ]
     },
     "execution_count": 7,
     "metadata": {},
     "output_type": "execute_result"
    },
    {
     "name": "stdout",
     "output_type": "stream",
     "text": [
      "Top21.htm has been downloaded\n"
     ]
    },
    {
     "data": {
      "text/plain": [
       "115934"
      ]
     },
     "execution_count": 7,
     "metadata": {},
     "output_type": "execute_result"
    },
    {
     "name": "stdout",
     "output_type": "stream",
     "text": [
      "Top22.htm has been downloaded\n"
     ]
    },
    {
     "data": {
      "text/plain": [
       "103211"
      ]
     },
     "execution_count": 7,
     "metadata": {},
     "output_type": "execute_result"
    },
    {
     "name": "stdout",
     "output_type": "stream",
     "text": [
      "Top23.htm has been downloaded\n"
     ]
    },
    {
     "data": {
      "text/plain": [
       "73866"
      ]
     },
     "execution_count": 7,
     "metadata": {},
     "output_type": "execute_result"
    },
    {
     "name": "stdout",
     "output_type": "stream",
     "text": [
      "Top24.htm has been downloaded\n"
     ]
    },
    {
     "data": {
      "text/plain": [
       "78077"
      ]
     },
     "execution_count": 7,
     "metadata": {},
     "output_type": "execute_result"
    },
    {
     "name": "stdout",
     "output_type": "stream",
     "text": [
      "Top25.htm has been downloaded\n"
     ]
    },
    {
     "data": {
      "text/plain": [
       "80351"
      ]
     },
     "execution_count": 7,
     "metadata": {},
     "output_type": "execute_result"
    },
    {
     "name": "stdout",
     "output_type": "stream",
     "text": [
      "Top26.htm has been downloaded\n"
     ]
    },
    {
     "data": {
      "text/plain": [
       "95914"
      ]
     },
     "execution_count": 7,
     "metadata": {},
     "output_type": "execute_result"
    },
    {
     "name": "stdout",
     "output_type": "stream",
     "text": [
      "Top27.htm has been downloaded\n"
     ]
    },
    {
     "data": {
      "text/plain": [
       "76194"
      ]
     },
     "execution_count": 7,
     "metadata": {},
     "output_type": "execute_result"
    },
    {
     "name": "stdout",
     "output_type": "stream",
     "text": [
      "Top28.htm has been downloaded\n"
     ]
    },
    {
     "data": {
      "text/plain": [
       "81418"
      ]
     },
     "execution_count": 7,
     "metadata": {},
     "output_type": "execute_result"
    },
    {
     "name": "stdout",
     "output_type": "stream",
     "text": [
      "Top29.htm has been downloaded\n"
     ]
    },
    {
     "data": {
      "text/plain": [
       "79522"
      ]
     },
     "execution_count": 7,
     "metadata": {},
     "output_type": "execute_result"
    },
    {
     "name": "stdout",
     "output_type": "stream",
     "text": [
      "Top30.htm has been downloaded\n"
     ]
    },
    {
     "data": {
      "text/plain": [
       "71160"
      ]
     },
     "execution_count": 7,
     "metadata": {},
     "output_type": "execute_result"
    },
    {
     "name": "stdout",
     "output_type": "stream",
     "text": [
      "Top31.htm has been downloaded\n"
     ]
    },
    {
     "data": {
      "text/plain": [
       "119288"
      ]
     },
     "execution_count": 7,
     "metadata": {},
     "output_type": "execute_result"
    },
    {
     "name": "stdout",
     "output_type": "stream",
     "text": [
      "Top32.htm has been downloaded\n"
     ]
    },
    {
     "data": {
      "text/plain": [
       "116534"
      ]
     },
     "execution_count": 7,
     "metadata": {},
     "output_type": "execute_result"
    },
    {
     "name": "stdout",
     "output_type": "stream",
     "text": [
      "Top33.htm has been downloaded\n"
     ]
    },
    {
     "data": {
      "text/plain": [
       "83385"
      ]
     },
     "execution_count": 7,
     "metadata": {},
     "output_type": "execute_result"
    },
    {
     "name": "stdout",
     "output_type": "stream",
     "text": [
      "Top34.htm has been downloaded\n"
     ]
    },
    {
     "data": {
      "text/plain": [
       "122888"
      ]
     },
     "execution_count": 7,
     "metadata": {},
     "output_type": "execute_result"
    },
    {
     "name": "stdout",
     "output_type": "stream",
     "text": [
      "Top35.htm has been downloaded\n"
     ]
    },
    {
     "data": {
      "text/plain": [
       "120890"
      ]
     },
     "execution_count": 7,
     "metadata": {},
     "output_type": "execute_result"
    },
    {
     "name": "stdout",
     "output_type": "stream",
     "text": [
      "Top36.htm has been downloaded\n"
     ]
    },
    {
     "data": {
      "text/plain": [
       "74905"
      ]
     },
     "execution_count": 7,
     "metadata": {},
     "output_type": "execute_result"
    },
    {
     "name": "stdout",
     "output_type": "stream",
     "text": [
      "Top37.htm has been downloaded\n"
     ]
    },
    {
     "data": {
      "text/plain": [
       "78528"
      ]
     },
     "execution_count": 7,
     "metadata": {},
     "output_type": "execute_result"
    },
    {
     "name": "stdout",
     "output_type": "stream",
     "text": [
      "Top38.htm has been downloaded\n"
     ]
    },
    {
     "data": {
      "text/plain": [
       "115702"
      ]
     },
     "execution_count": 7,
     "metadata": {},
     "output_type": "execute_result"
    },
    {
     "name": "stdout",
     "output_type": "stream",
     "text": [
      "Top39.htm has been downloaded\n"
     ]
    },
    {
     "data": {
      "text/plain": [
       "73841"
      ]
     },
     "execution_count": 7,
     "metadata": {},
     "output_type": "execute_result"
    },
    {
     "name": "stdout",
     "output_type": "stream",
     "text": [
      "Top40.htm has been downloaded\n"
     ]
    }
   ],
   "source": [
    "#Set up folder where I hope to download my pages into\n",
    "folder_path = \"/Users/crystal/Desktop/assign02_0128/\"\n",
    "#For loop to go through the list of links to download pages\n",
    "for i in range(1, 41):\n",
    "    link = links[i-1]\n",
    "    file_name = f\"Top{str(i).zfill(2)}.htm\"\n",
    "    file_path = folder_path + file_name\n",
    "    \n",
    "    try:\n",
    "        html = requests.get(link, timeout=20, headers = headers).text\n",
    "        with open(file_path, \"w\") as file:\n",
    "            file.write(html)\n",
    "        #Signal me when a file has been successfully downloaded\n",
    "        print(f\"{file_name} has been downloaded\")\n",
    "    except:\n",
    "        print(f\"Error: {file_name} cannot be downloaded\")"
   ]
  },
  {
   "cell_type": "markdown",
   "id": "a16458ac",
   "metadata": {},
   "source": [
    "#### d). Write a separate piece of code that loops through the pages you downloaded in (c), opens and parses them into a Python or Java xxxxsoup-object. Next, access the “Overview” section of the page and print the first 100 characters of the overview text to screen."
   ]
  },
  {
   "cell_type": "code",
   "execution_count": 14,
   "id": "c4064cd5",
   "metadata": {},
   "outputs": [
    {
     "name": "stdout",
     "output_type": "stream",
     "text": [
      "Overview of Top 1:\n",
      "This Barnes & Noble Exclusive Edition includes a unique cover and case stamp and will contain exclus\n",
      "Overview of Top 2:\n",
      "The first monograph on a digital art phenomenon Beeple: Everydays, the First 5000 Days is the first \n",
      "Overview of Top 3:\n",
      "This Barnes & Noble Exclusive Edition features an alternate jacket and contains a bonus short story \n",
      "Overview of Top 4:\n",
      "This Barnes & Noble Exclusive Edition contains bonus content and features a unique cover! The adult \n",
      "Overview of Top 5:\n",
      "This Barnes & Noble Exclusive Edition contains Emily Henry's Vacation Reading Recommendations. A cou\n",
      "Overview of Top 6:\n",
      "This Barnes & Noble Exclusive Edition features an alternate jacket and a unique hardcover case and e\n",
      "Overview of Top 7:\n",
      "Rival physicists collide in a vortex of academic feuds and fake dating shenanigans in this delightfu\n",
      "Overview of Top 8:\n",
      "Dispatches from the Edge meets In an Instant in this dramatic memoir of war, family, resilience, and\n",
      "Overview of Top 9:\n",
      "This Barnes & Noble Exclusive Edition contains an extended bonus epilogue from Dante’s point of view\n",
      "Overview of Top 10:\n",
      "From TikTok sensation Lauren Asher comes the final book in the Dreamland Billionaires series.Callaha\n",
      "Overview of Top 11:\n",
      "James and Cordelia must save London—and their marriage—in this thrilling and highly anticipated conc\n",
      "Overview of Top 12:\n",
      "A random connection sends two strangers on a daylong adventure where they make a promise one keeps a\n",
      "Overview of Top 13:\n",
      "Zetian must balance dangerous politics with a new quest for vengeance in the sequel to the #1 New Yo\n",
      "Overview of Top 14:\n",
      "This Barnes & Noble Exclusive Edition features an alternate jacket and case cover and will contain b\n",
      "Overview of Top 15:\n",
      "New York Times and USA Today bestselling author Lucy Score returns to Knockemout, Virginia, followin\n",
      "Overview of Top 16:\n",
      "From bookfluencer and host of the BAD ON PAPER podcast, a riotous holiday rom-com about four friends\n",
      "Overview of Top 17:\n",
      "This Barnes & Noble Exclusive Edition has special end papers and a custom cover foil stamp as well a\n",
      "Overview of Top 18:\n",
      "From #1 New York Times bestselling author and TikTok favorite Tessa Bailey comes a steamy new rom-co\n",
      "Overview of Top 19:\n",
      "New York Times and USA Today bestselling author Mariana Zapata’s most beloved book, The Wall of Winn\n",
      "Overview of Top 20:\n",
      "This Barnes & Noble Exclusive Edition features original cover artwork on the hardcover by author and\n",
      "Overview of Top 21:\n",
      "This Barnes & Noble Exclusive Edition includes bonus content by the author, a jacket with gold foili\n",
      "Overview of Top 22:\n",
      "A novel of terrible first impressions, hilarious second chances, and the joy in finding your perfect\n",
      "Overview of Top 23:\n",
      "Easy Yet Impressive Dinners for your Inner Rockstar You can have it all: delicious, easy and drop-de\n",
      "Overview of Top 24:\n",
      "What’s the harm in a pseudonym? Bestselling sensation Juniper Song is not who she says she is, she d\n",
      "Overview of Top 25:\n",
      "Lethal. Loyal. Legendary.Enter the world of Throne of Glass with the first book in the #1 bestsellin\n",
      "Overview of Top 26:\n",
      "Begin your very own food journey through the centuries and around the world with the first cookbook \n",
      "Overview of Top 27:\n",
      "An action-packed comedy about a fake family that includes a spy, an assassin and a telepath!Master s\n",
      "Overview of Top 28:\n",
      "\"Millions of eyes were suddenly upon us, creating a picture I will never forget.\"—Paul McCartneyTake\n",
      "Overview of Top 29:\n",
      "A TikTok sensation! Sparks fly when a competitive figure skater and hockey team captain are forced t\n",
      "Overview of Top 30:\n",
      "This Barnes & Noble Exclusive Edition contains a folded full-color poster of all the gods, creatures\n",
      "Overview of Top 31:\n",
      "From the acclaimed author of Think Like a Rocket Scientist comes a simple guide to unlock your origi\n",
      "Overview of Top 32:\n",
      "Never trust an assassin.Celaena's story continues in this second book in the #1 bestselling Throne o\n",
      "Overview of Top 33:\n",
      "#1 New York Times bestselling author Jennifer L. Armentrout revisits the first novel in her phenomen\n",
      "Overview of Top 34:\n",
      "Trailblazing pop star, actor and director, Hayley Kiyoko debuts her first novel, a coming-of-age rom\n",
      "Overview of Top 35:\n",
      "This B&N Exclusive Edition contains a \"How to Care for your Rambo\" instruction manual, a beautiful f\n",
      "Overview of Top 36:\n",
      "This Barnes & Noble Exclusive Edition includes a colorable pull-out poster.Piggy is back, and his ne\n",
      "Overview of Top 37:\n",
      "Close MORE real estate deals in LESS time for LESS money by harnessing the power of creative financi\n",
      "Overview of Top 38:\n",
      "This Barnes & Noble Exclusive Edition includes a bonus chapter.Sparks fly when a romance novelist an\n",
      "Overview of Top 39:\n",
      "The heir of ash and fire bows to no one.A new threat rises in the third book in the #1 bestselling T\n",
      "Overview of Top 40:\n",
      "From #1 New York Times bestselling author Chloe Gong comes two captivating new novellas surrounding \n"
     ]
    }
   ],
   "source": [
    "import os\n",
    "folder_path = \"/Users/crystal/Desktop/assign02_0128/\"\n",
    "for i in range(1, 41):\n",
    "    file_name = f\"Top{str(i).zfill(2)}.html\"\n",
    "    file_path = os.path.join(folder_path, file_name)\n",
    "    \n",
    "    try:\n",
    "        with open(file_path, \"r\") as file:\n",
    "            html = file.read()\n",
    "            soup = BeautifulSoup(html, \"html.parser\")\n",
    "            overview = soup.select_one('div.overview-cntnt')\n",
    "            print('Overview of Top ' + str(i) + ':' + overview.text[:101])\n",
    "            \n",
    "    except:\n",
    "        print(f\"Error: {file_name} cannot be parsed\")"
   ]
  }
 ],
 "metadata": {
  "kernelspec": {
   "display_name": "Python 3",
   "language": "python",
   "name": "python3"
  },
  "language_info": {
   "codemirror_mode": {
    "name": "ipython",
    "version": 3
   },
   "file_extension": ".py",
   "mimetype": "text/x-python",
   "name": "python",
   "nbconvert_exporter": "python",
   "pygments_lexer": "ipython3",
   "version": "3.8.8"
  }
 },
 "nbformat": 4,
 "nbformat_minor": 5
}
